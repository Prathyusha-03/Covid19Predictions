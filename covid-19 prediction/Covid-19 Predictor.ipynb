{
 "cells": [
  {
   "cell_type": "code",
   "execution_count": 1,
   "metadata": {},
   "outputs": [],
   "source": [
    "#importing packages\n",
    "import pandas as pd\n",
    "import numpy as np \n",
    "import seaborn as sns\n",
    "import matplotlib.pyplot as plt\n",
    "from sklearn.svm import SVR"
   ]
  },
  {
   "cell_type": "code",
   "execution_count": 2,
   "metadata": {},
   "outputs": [
    {
     "data": {
      "text/html": [
       "<div>\n",
       "<style scoped>\n",
       "    .dataframe tbody tr th:only-of-type {\n",
       "        vertical-align: middle;\n",
       "    }\n",
       "\n",
       "    .dataframe tbody tr th {\n",
       "        vertical-align: top;\n",
       "    }\n",
       "\n",
       "    .dataframe thead th {\n",
       "        text-align: right;\n",
       "    }\n",
       "</style>\n",
       "<table border=\"1\" class=\"dataframe\">\n",
       "  <thead>\n",
       "    <tr style=\"text-align: right;\">\n",
       "      <th></th>\n",
       "      <th>Province/State</th>\n",
       "      <th>Country/Region</th>\n",
       "      <th>Lat</th>\n",
       "      <th>Long</th>\n",
       "      <th>Date</th>\n",
       "      <th>Confirmed</th>\n",
       "      <th>Deaths</th>\n",
       "      <th>Recovered</th>\n",
       "      <th>Active</th>\n",
       "      <th>WHO Region</th>\n",
       "    </tr>\n",
       "  </thead>\n",
       "  <tbody>\n",
       "    <tr>\n",
       "      <th>39928</th>\n",
       "      <td>NaN</td>\n",
       "      <td>Sao Tome and Principe</td>\n",
       "      <td>0.186360</td>\n",
       "      <td>6.613081</td>\n",
       "      <td>2020-06-22</td>\n",
       "      <td>702</td>\n",
       "      <td>12</td>\n",
       "      <td>203</td>\n",
       "      <td>487</td>\n",
       "      <td>Africa</td>\n",
       "    </tr>\n",
       "    <tr>\n",
       "      <th>39929</th>\n",
       "      <td>NaN</td>\n",
       "      <td>Yemen</td>\n",
       "      <td>15.552727</td>\n",
       "      <td>48.516388</td>\n",
       "      <td>2020-06-22</td>\n",
       "      <td>967</td>\n",
       "      <td>257</td>\n",
       "      <td>350</td>\n",
       "      <td>360</td>\n",
       "      <td>Eastern Mediterranean</td>\n",
       "    </tr>\n",
       "    <tr>\n",
       "      <th>39930</th>\n",
       "      <td>NaN</td>\n",
       "      <td>Comoros</td>\n",
       "      <td>-11.645500</td>\n",
       "      <td>43.333300</td>\n",
       "      <td>2020-06-22</td>\n",
       "      <td>247</td>\n",
       "      <td>5</td>\n",
       "      <td>159</td>\n",
       "      <td>83</td>\n",
       "      <td>Africa</td>\n",
       "    </tr>\n",
       "    <tr>\n",
       "      <th>39931</th>\n",
       "      <td>NaN</td>\n",
       "      <td>Tajikistan</td>\n",
       "      <td>38.861034</td>\n",
       "      <td>71.276093</td>\n",
       "      <td>2020-06-22</td>\n",
       "      <td>5513</td>\n",
       "      <td>52</td>\n",
       "      <td>4039</td>\n",
       "      <td>1422</td>\n",
       "      <td>Europe</td>\n",
       "    </tr>\n",
       "    <tr>\n",
       "      <th>39932</th>\n",
       "      <td>NaN</td>\n",
       "      <td>Lesotho</td>\n",
       "      <td>-29.609988</td>\n",
       "      <td>28.233608</td>\n",
       "      <td>2020-06-22</td>\n",
       "      <td>12</td>\n",
       "      <td>0</td>\n",
       "      <td>2</td>\n",
       "      <td>10</td>\n",
       "      <td>Africa</td>\n",
       "    </tr>\n",
       "  </tbody>\n",
       "</table>\n",
       "</div>"
      ],
      "text/plain": [
       "      Province/State         Country/Region        Lat       Long        Date  \\\n",
       "39928            NaN  Sao Tome and Principe   0.186360   6.613081  2020-06-22   \n",
       "39929            NaN                  Yemen  15.552727  48.516388  2020-06-22   \n",
       "39930            NaN                Comoros -11.645500  43.333300  2020-06-22   \n",
       "39931            NaN             Tajikistan  38.861034  71.276093  2020-06-22   \n",
       "39932            NaN                Lesotho -29.609988  28.233608  2020-06-22   \n",
       "\n",
       "       Confirmed  Deaths  Recovered  Active             WHO Region  \n",
       "39928        702      12        203     487                 Africa  \n",
       "39929        967     257        350     360  Eastern Mediterranean  \n",
       "39930        247       5        159      83                 Africa  \n",
       "39931       5513      52       4039    1422                 Europe  \n",
       "39932         12       0          2      10                 Africa  "
      ]
     },
     "execution_count": 2,
     "metadata": {},
     "output_type": "execute_result"
    }
   ],
   "source": [
    "#Reading csv file\n",
    "covid_data=pd.read_csv(\"world_data.csv\")\n",
    "covid_data.tail()"
   ]
  },
  {
   "cell_type": "code",
   "execution_count": 3,
   "metadata": {},
   "outputs": [
    {
     "data": {
      "text/html": [
       "<div>\n",
       "<style scoped>\n",
       "    .dataframe tbody tr th:only-of-type {\n",
       "        vertical-align: middle;\n",
       "    }\n",
       "\n",
       "    .dataframe tbody tr th {\n",
       "        vertical-align: top;\n",
       "    }\n",
       "\n",
       "    .dataframe thead th {\n",
       "        text-align: right;\n",
       "    }\n",
       "</style>\n",
       "<table border=\"1\" class=\"dataframe\">\n",
       "  <thead>\n",
       "    <tr style=\"text-align: right;\">\n",
       "      <th></th>\n",
       "      <th>Country/Region</th>\n",
       "      <th>Date</th>\n",
       "      <th>Confirmed</th>\n",
       "      <th>Deaths</th>\n",
       "      <th>Recovered</th>\n",
       "    </tr>\n",
       "  </thead>\n",
       "  <tbody>\n",
       "    <tr>\n",
       "      <th>39928</th>\n",
       "      <td>Sao Tome and Principe</td>\n",
       "      <td>2020-06-22</td>\n",
       "      <td>702</td>\n",
       "      <td>12</td>\n",
       "      <td>203</td>\n",
       "    </tr>\n",
       "    <tr>\n",
       "      <th>39929</th>\n",
       "      <td>Yemen</td>\n",
       "      <td>2020-06-22</td>\n",
       "      <td>967</td>\n",
       "      <td>257</td>\n",
       "      <td>350</td>\n",
       "    </tr>\n",
       "    <tr>\n",
       "      <th>39930</th>\n",
       "      <td>Comoros</td>\n",
       "      <td>2020-06-22</td>\n",
       "      <td>247</td>\n",
       "      <td>5</td>\n",
       "      <td>159</td>\n",
       "    </tr>\n",
       "    <tr>\n",
       "      <th>39931</th>\n",
       "      <td>Tajikistan</td>\n",
       "      <td>2020-06-22</td>\n",
       "      <td>5513</td>\n",
       "      <td>52</td>\n",
       "      <td>4039</td>\n",
       "    </tr>\n",
       "    <tr>\n",
       "      <th>39932</th>\n",
       "      <td>Lesotho</td>\n",
       "      <td>2020-06-22</td>\n",
       "      <td>12</td>\n",
       "      <td>0</td>\n",
       "      <td>2</td>\n",
       "    </tr>\n",
       "  </tbody>\n",
       "</table>\n",
       "</div>"
      ],
      "text/plain": [
       "              Country/Region       Date  Confirmed  Deaths  Recovered\n",
       "39928  Sao Tome and Principe 2020-06-22        702      12        203\n",
       "39929                  Yemen 2020-06-22        967     257        350\n",
       "39930                Comoros 2020-06-22        247       5        159\n",
       "39931             Tajikistan 2020-06-22       5513      52       4039\n",
       "39932                Lesotho 2020-06-22         12       0          2"
      ]
     },
     "execution_count": 3,
     "metadata": {},
     "output_type": "execute_result"
    }
   ],
   "source": [
    "covid_data.drop(['Lat','Province/State','Active','WHO Region','Long'],axis=1,inplace=True)\n",
    "covid_data[\"Date\"]=pd.to_datetime(covid_data[\"Date\"])\n",
    "covid_data.tail()"
   ]
  },
  {
   "cell_type": "code",
   "execution_count": 4,
   "metadata": {},
   "outputs": [
    {
     "data": {
      "text/html": [
       "<div>\n",
       "<style scoped>\n",
       "    .dataframe tbody tr th:only-of-type {\n",
       "        vertical-align: middle;\n",
       "    }\n",
       "\n",
       "    .dataframe tbody tr th {\n",
       "        vertical-align: top;\n",
       "    }\n",
       "\n",
       "    .dataframe thead th {\n",
       "        text-align: right;\n",
       "    }\n",
       "</style>\n",
       "<table border=\"1\" class=\"dataframe\">\n",
       "  <thead>\n",
       "    <tr style=\"text-align: right;\">\n",
       "      <th></th>\n",
       "      <th>Confirmed</th>\n",
       "      <th>Deaths</th>\n",
       "      <th>Recovered</th>\n",
       "    </tr>\n",
       "    <tr>\n",
       "      <th>Country/Region</th>\n",
       "      <th></th>\n",
       "      <th></th>\n",
       "      <th></th>\n",
       "    </tr>\n",
       "  </thead>\n",
       "  <tbody>\n",
       "    <tr>\n",
       "      <th>United Kingdom</th>\n",
       "      <td>305289</td>\n",
       "      <td>42647</td>\n",
       "      <td>528</td>\n",
       "    </tr>\n",
       "    <tr>\n",
       "      <th>India</th>\n",
       "      <td>440215</td>\n",
       "      <td>14011</td>\n",
       "      <td>248190</td>\n",
       "    </tr>\n",
       "    <tr>\n",
       "      <th>Russia</th>\n",
       "      <td>591465</td>\n",
       "      <td>8196</td>\n",
       "      <td>343847</td>\n",
       "    </tr>\n",
       "    <tr>\n",
       "      <th>Brazil</th>\n",
       "      <td>1106470</td>\n",
       "      <td>51271</td>\n",
       "      <td>601736</td>\n",
       "    </tr>\n",
       "    <tr>\n",
       "      <th>US</th>\n",
       "      <td>2312302</td>\n",
       "      <td>120402</td>\n",
       "      <td>640198</td>\n",
       "    </tr>\n",
       "  </tbody>\n",
       "</table>\n",
       "</div>"
      ],
      "text/plain": [
       "                Confirmed  Deaths  Recovered\n",
       "Country/Region                              \n",
       "United Kingdom     305289   42647        528\n",
       "India              440215   14011     248190\n",
       "Russia             591465    8196     343847\n",
       "Brazil            1106470   51271     601736\n",
       "US                2312302  120402     640198"
      ]
     },
     "execution_count": 4,
     "metadata": {},
     "output_type": "execute_result"
    }
   ],
   "source": [
    "co=covid_data[['Country/Region','Confirmed',\"Deaths\",\"Recovered\"]]\n",
    "world_data=co.groupby(['Country/Region']).agg({\"Confirmed\":\"max\",\"Deaths\":\"max\",\"Recovered\":\"max\"})\n",
    "world_data=world_data.sort_values([\"Confirmed\",\"Deaths\",\"Recovered\"],ascending=[1,1,1])\n",
    "top=world_data[-5:]\n",
    "top\n",
    "#world_data.tail(20)"
   ]
  },
  {
   "cell_type": "code",
   "execution_count": 5,
   "metadata": {},
   "outputs": [],
   "source": [
    "co=covid_data[['Country/Region','Date','Confirmed',\"Deaths\",\"Recovered\"]]\n",
    "world_data=co.groupby(['Country/Region','Date']).agg({\"Confirmed\":\"sum\",\"Deaths\":\"sum\",\"Recovered\":\"sum\"})\n",
    "world_data=world_data.sort_values([\"Confirmed\",\"Deaths\",\"Recovered\",],ascending=[1,1,1])\n",
    "for i in range(len(world_data.index)):\n",
    "    if world_data.index[i][0]==top.index[0]:\n",
    "        one=world_data.loc[world_data.index[i][0]]\n",
    "    elif world_data.index[i][0]==top.index[1]:\n",
    "        two=world_data.loc[world_data.index[i][0]]\n",
    "    elif world_data.index[i][0]==top.index[2]:\n",
    "        three=world_data.loc[world_data.index[i][0]]\n",
    "    elif world_data.index[i][0]==top.index[3]:\n",
    "        four=world_data.loc[world_data.index[i][0]]\n",
    "    elif world_data.index[i][0]==top.index[4]:\n",
    "        five=world_data.loc[world_data.index[i][0]]\n",
    "    "
   ]
  },
  {
   "cell_type": "code",
   "execution_count": 6,
   "metadata": {},
   "outputs": [
    {
     "data": {
      "text/plain": [
       "Text(0.5, 1.0, 'Statistical Analysis of Confirmed Cases')"
      ]
     },
     "execution_count": 6,
     "metadata": {},
     "output_type": "execute_result"
    },
    {
     "data": {
      "image/png": "[encoded data removed]",
      "text/plain": [
       "<Figure size 1080x720 with 1 Axes>"
      ]
     },
     "metadata": {
      "needs_background": "light"
     },
     "output_type": "display_data"
    }
   ],
   "source": [
    "plt.figure (figsize=(15,10))\n",
    "plt.plot (one.index,one[\"Confirmed\"],label=top.index[0])\n",
    "plt.plot (two.index,two[\"Confirmed\"],label=top.index[1])\n",
    "plt.plot (three.index,three[\"Confirmed\"],label=top.index[2])\n",
    "plt.plot (four.index,four[\"Confirmed\"],label=top.index[3])\n",
    "plt.plot (five.index,five[\"Confirmed\"],label=top.index[4])\n",
    "plt.xticks(rotation=45)\n",
    "plt.legend()\n",
    "plt.title(\"Statistical Analysis of Confirmed Cases\")"
   ]
  },
  {
   "cell_type": "code",
   "execution_count": 7,
   "metadata": {},
   "outputs": [
    {
     "data": {
      "text/plain": [
       "Text(0.5, 1.0, 'Statistical Analysis of Deaths')"
      ]
     },
     "execution_count": 7,
     "metadata": {},
     "output_type": "execute_result"
    },
    {
     "data": {
      "image/png": "[encoded data removed]",
      "text/plain": [
       "<Figure size 1080x720 with 1 Axes>"
      ]
     },
     "metadata": {
      "needs_background": "light"
     },
     "output_type": "display_data"
    }
   ],
   "source": [
    "plt.figure (figsize=(15,10))\n",
    "plt.plot (one.index,one[\"Deaths\"],label=top.index[0])\n",
    "plt.plot (two.index,two[\"Deaths\"],label=top.index[1])\n",
    "plt.plot (three.index,three[\"Deaths\"],label=top.index[2])\n",
    "plt.plot (four.index,four[\"Deaths\"],label=top.index[3])\n",
    "plt.plot (five.index,five[\"Deaths\"],label=top.index[4])\n",
    "plt.xticks(rotation=45)\n",
    "plt.legend()\n",
    "plt.title(\"Statistical Analysis of Deaths\")"
   ]
  },
  {
   "cell_type": "code",
   "execution_count": 8,
   "metadata": {},
   "outputs": [
    {
     "data": {
      "text/plain": [
       "Text(0.5, 1.0, 'Statistical Analysis of Recovered Cases')"
      ]
     },
     "execution_count": 8,
     "metadata": {},
     "output_type": "execute_result"
    },
    {
     "data": {
      "image/png": "[encoded data removed]",
      "text/plain": [
       "<Figure size 1080x720 with 1 Axes>"
      ]
     },
     "metadata": {
      "needs_background": "light"
     },
     "output_type": "display_data"
    }
   ],
   "source": [
    "plt.figure (figsize=(15,10))\n",
    "plt.plot (one.index,one[\"Recovered\"],label=top.index[0])\n",
    "plt.plot (two.index,two[\"Recovered\"],label=top.index[1])\n",
    "plt.plot (three.index,three[\"Recovered\"],label=top.index[2])\n",
    "plt.plot (four.index,four[\"Recovered\"],label=top.index[3])\n",
    "plt.plot (five.index,five[\"Recovered\"],label=top.index[4])\n",
    "plt.xticks(rotation=45)\n",
    "plt.legend()\n",
    "plt.title(\"Statistical Analysis of Recovered Cases\")"
   ]
  },
  {
   "cell_type": "code",
   "execution_count": 9,
   "metadata": {},
   "outputs": [
    {
     "data": {
      "text/html": [
       "<div>\n",
       "<style scoped>\n",
       "    .dataframe tbody tr th:only-of-type {\n",
       "        vertical-align: middle;\n",
       "    }\n",
       "\n",
       "    .dataframe tbody tr th {\n",
       "        vertical-align: top;\n",
       "    }\n",
       "\n",
       "    .dataframe thead th {\n",
       "        text-align: right;\n",
       "    }\n",
       "</style>\n",
       "<table border=\"1\" class=\"dataframe\">\n",
       "  <thead>\n",
       "    <tr style=\"text-align: right;\">\n",
       "      <th></th>\n",
       "      <th>Days Since</th>\n",
       "      <th>Confirmed</th>\n",
       "      <th>Confirmed Rate</th>\n",
       "      <th>Deaths</th>\n",
       "      <th>Death Rate</th>\n",
       "      <th>Recovered</th>\n",
       "      <th>Recoverance Rate</th>\n",
       "    </tr>\n",
       "    <tr>\n",
       "      <th>Date</th>\n",
       "      <th></th>\n",
       "      <th></th>\n",
       "      <th></th>\n",
       "      <th></th>\n",
       "      <th></th>\n",
       "      <th></th>\n",
       "      <th></th>\n",
       "    </tr>\n",
       "  </thead>\n",
       "  <tbody>\n",
       "    <tr>\n",
       "      <th>2020-06-08</th>\n",
       "      <td>138</td>\n",
       "      <td>7118614</td>\n",
       "      <td>high</td>\n",
       "      <td>406584</td>\n",
       "      <td>high</td>\n",
       "      <td>3237190</td>\n",
       "      <td>high</td>\n",
       "    </tr>\n",
       "    <tr>\n",
       "      <th>2020-06-09</th>\n",
       "      <td>139</td>\n",
       "      <td>7241951</td>\n",
       "      <td>high</td>\n",
       "      <td>411445</td>\n",
       "      <td>high</td>\n",
       "      <td>3318671</td>\n",
       "      <td>high</td>\n",
       "    </tr>\n",
       "    <tr>\n",
       "      <th>2020-06-10</th>\n",
       "      <td>140</td>\n",
       "      <td>7375592</td>\n",
       "      <td>high</td>\n",
       "      <td>416654</td>\n",
       "      <td>high</td>\n",
       "      <td>3396704</td>\n",
       "      <td>high</td>\n",
       "    </tr>\n",
       "    <tr>\n",
       "      <th>2020-06-11</th>\n",
       "      <td>141</td>\n",
       "      <td>7513983</td>\n",
       "      <td>high</td>\n",
       "      <td>421445</td>\n",
       "      <td>high</td>\n",
       "      <td>3481671</td>\n",
       "      <td>high</td>\n",
       "    </tr>\n",
       "    <tr>\n",
       "      <th>2020-06-12</th>\n",
       "      <td>142</td>\n",
       "      <td>7643519</td>\n",
       "      <td>high</td>\n",
       "      <td>425764</td>\n",
       "      <td>high</td>\n",
       "      <td>3560483</td>\n",
       "      <td>high</td>\n",
       "    </tr>\n",
       "    <tr>\n",
       "      <th>2020-06-13</th>\n",
       "      <td>143</td>\n",
       "      <td>7778140</td>\n",
       "      <td>high</td>\n",
       "      <td>430031</td>\n",
       "      <td>high</td>\n",
       "      <td>3645598</td>\n",
       "      <td>high</td>\n",
       "    </tr>\n",
       "    <tr>\n",
       "      <th>2020-06-14</th>\n",
       "      <td>144</td>\n",
       "      <td>7911685</td>\n",
       "      <td>high</td>\n",
       "      <td>433375</td>\n",
       "      <td>high</td>\n",
       "      <td>3715556</td>\n",
       "      <td>high</td>\n",
       "    </tr>\n",
       "    <tr>\n",
       "      <th>2020-06-15</th>\n",
       "      <td>145</td>\n",
       "      <td>8033720</td>\n",
       "      <td>high</td>\n",
       "      <td>436883</td>\n",
       "      <td>high</td>\n",
       "      <td>3794955</td>\n",
       "      <td>high</td>\n",
       "    </tr>\n",
       "    <tr>\n",
       "      <th>2020-06-16</th>\n",
       "      <td>146</td>\n",
       "      <td>8173199</td>\n",
       "      <td>high</td>\n",
       "      <td>443669</td>\n",
       "      <td>high</td>\n",
       "      <td>3892350</td>\n",
       "      <td>high</td>\n",
       "    </tr>\n",
       "    <tr>\n",
       "      <th>2020-06-17</th>\n",
       "      <td>147</td>\n",
       "      <td>8349209</td>\n",
       "      <td>high</td>\n",
       "      <td>448943</td>\n",
       "      <td>high</td>\n",
       "      <td>4009755</td>\n",
       "      <td>high</td>\n",
       "    </tr>\n",
       "    <tr>\n",
       "      <th>2020-06-18</th>\n",
       "      <td>148</td>\n",
       "      <td>8488235</td>\n",
       "      <td>high</td>\n",
       "      <td>453963</td>\n",
       "      <td>high</td>\n",
       "      <td>4090382</td>\n",
       "      <td>high</td>\n",
       "    </tr>\n",
       "    <tr>\n",
       "      <th>2020-06-19</th>\n",
       "      <td>149</td>\n",
       "      <td>8666045</td>\n",
       "      <td>high</td>\n",
       "      <td>460053</td>\n",
       "      <td>high</td>\n",
       "      <td>4180522</td>\n",
       "      <td>high</td>\n",
       "    </tr>\n",
       "    <tr>\n",
       "      <th>2020-06-20</th>\n",
       "      <td>150</td>\n",
       "      <td>8828267</td>\n",
       "      <td>high</td>\n",
       "      <td>464505</td>\n",
       "      <td>high</td>\n",
       "      <td>4300164</td>\n",
       "      <td>high</td>\n",
       "    </tr>\n",
       "    <tr>\n",
       "      <th>2020-06-21</th>\n",
       "      <td>151</td>\n",
       "      <td>8955903</td>\n",
       "      <td>high</td>\n",
       "      <td>468381</td>\n",
       "      <td>high</td>\n",
       "      <td>4368433</td>\n",
       "      <td>high</td>\n",
       "    </tr>\n",
       "    <tr>\n",
       "      <th>2020-06-22</th>\n",
       "      <td>152</td>\n",
       "      <td>9097902</td>\n",
       "      <td>high</td>\n",
       "      <td>472155</td>\n",
       "      <td>high</td>\n",
       "      <td>4459666</td>\n",
       "      <td>high</td>\n",
       "    </tr>\n",
       "  </tbody>\n",
       "</table>\n",
       "</div>"
      ],
      "text/plain": [
       "            Days Since  Confirmed Confirmed Rate  Deaths Death Rate  \\\n",
       "Date                                                                  \n",
       "2020-06-08         138    7118614           high  406584       high   \n",
       "2020-06-09         139    7241951           high  411445       high   \n",
       "2020-06-10         140    7375592           high  416654       high   \n",
       "2020-06-11         141    7513983           high  421445       high   \n",
       "2020-06-12         142    7643519           high  425764       high   \n",
       "2020-06-13         143    7778140           high  430031       high   \n",
       "2020-06-14         144    7911685           high  433375       high   \n",
       "2020-06-15         145    8033720           high  436883       high   \n",
       "2020-06-16         146    8173199           high  443669       high   \n",
       "2020-06-17         147    8349209           high  448943       high   \n",
       "2020-06-18         148    8488235           high  453963       high   \n",
       "2020-06-19         149    8666045           high  460053       high   \n",
       "2020-06-20         150    8828267           high  464505       high   \n",
       "2020-06-21         151    8955903           high  468381       high   \n",
       "2020-06-22         152    9097902           high  472155       high   \n",
       "\n",
       "            Recovered Recoverance Rate  \n",
       "Date                                    \n",
       "2020-06-08    3237190             high  \n",
       "2020-06-09    3318671             high  \n",
       "2020-06-10    3396704             high  \n",
       "2020-06-11    3481671             high  \n",
       "2020-06-12    3560483             high  \n",
       "2020-06-13    3645598             high  \n",
       "2020-06-14    3715556             high  \n",
       "2020-06-15    3794955             high  \n",
       "2020-06-16    3892350             high  \n",
       "2020-06-17    4009755             high  \n",
       "2020-06-18    4090382             high  \n",
       "2020-06-19    4180522             high  \n",
       "2020-06-20    4300164             high  \n",
       "2020-06-21    4368433             high  \n",
       "2020-06-22    4459666             high  "
      ]
     },
     "execution_count": 9,
     "metadata": {},
     "output_type": "execute_result"
    }
   ],
   "source": [
    "co=covid_data[['Date','Confirmed',\"Deaths\",\"Recovered\"]]\n",
    "world_data=co.groupby(['Date']).agg({\"Confirmed\":\"sum\",\"Deaths\":\"sum\",\"Recovered\":\"sum\"})\n",
    "world_data[\"Days Since\"]=world_data.index-world_data.index[0]\n",
    "world_data[\"Days Since\"]=world_data[\"Days Since\"].dt.days\n",
    "bins=np.linspace(min(world_data['Recovered']),max(world_data['Recovered']),4)\n",
    "group_names=[\"low\",\"medium\",\"high\"]\n",
    "world_data[\"Recoverance Rate\"]=pd.cut(world_data[\"Recovered\"],bins,labels=group_names,include_lowest=True)\n",
    "bins=np.linspace(min(world_data[\"Confirmed\"]),max(world_data[\"Confirmed\"]),4)\n",
    "world_data[\"Confirmed Rate\"]=pd.cut(world_data[\"Confirmed\"],bins,labels=group_names,include_lowest=True)\n",
    "bins=np.linspace(min(world_data[\"Deaths\"]),max(world_data[\"Deaths\"]),4)\n",
    "world_data[\"Death Rate\"]=pd.cut(world_data[\"Deaths\"],bins,labels=group_names,include_lowest=True)\n",
    "columns_name=['Days Since','Confirmed','Confirmed Rate','Deaths','Death Rate','Recovered','Recoverance Rate']\n",
    "world_data_reindex=world_data.reindex(columns=columns_name)\n",
    "world_data=world_data_reindex\n",
    "world_data[\"Confirmed\"]=world_data[\"Confirmed\"].astype(\"int\")\n",
    "world_data[\"Recovered\"]=world_data[\"Recovered\"].astype(\"int\")\n",
    "world_data[\"Deaths\"]=world_data[\"Deaths\"].astype(\"int\")\n",
    "world_data.head(10)\n",
    "world_data.tail(15)"
   ]
  },
  {
   "cell_type": "markdown",
   "metadata": {},
   "source": [
    "Pridicting Confirmed cases "
   ]
  },
  {
   "cell_type": "code",
   "execution_count": 10,
   "metadata": {},
   "outputs": [
    {
     "data": {
      "text/html": [
       "<div>\n",
       "<style scoped>\n",
       "    .dataframe tbody tr th:only-of-type {\n",
       "        vertical-align: middle;\n",
       "    }\n",
       "\n",
       "    .dataframe tbody tr th {\n",
       "        vertical-align: top;\n",
       "    }\n",
       "\n",
       "    .dataframe thead th {\n",
       "        text-align: right;\n",
       "    }\n",
       "</style>\n",
       "<table border=\"1\" class=\"dataframe\">\n",
       "  <thead>\n",
       "    <tr style=\"text-align: right;\">\n",
       "      <th></th>\n",
       "      <th>Days Since</th>\n",
       "      <th>Confirmed</th>\n",
       "      <th>Confirmed Rate</th>\n",
       "      <th>Deaths</th>\n",
       "      <th>Death Rate</th>\n",
       "      <th>Recovered</th>\n",
       "      <th>Recoverance Rate</th>\n",
       "    </tr>\n",
       "    <tr>\n",
       "      <th>Date</th>\n",
       "      <th></th>\n",
       "      <th></th>\n",
       "      <th></th>\n",
       "      <th></th>\n",
       "      <th></th>\n",
       "      <th></th>\n",
       "      <th></th>\n",
       "    </tr>\n",
       "  </thead>\n",
       "  <tbody>\n",
       "    <tr>\n",
       "      <th>2020-06-18</th>\n",
       "      <td>148</td>\n",
       "      <td>8488235</td>\n",
       "      <td>high</td>\n",
       "      <td>453963</td>\n",
       "      <td>high</td>\n",
       "      <td>4090382</td>\n",
       "      <td>high</td>\n",
       "    </tr>\n",
       "    <tr>\n",
       "      <th>2020-06-19</th>\n",
       "      <td>149</td>\n",
       "      <td>8666045</td>\n",
       "      <td>high</td>\n",
       "      <td>460053</td>\n",
       "      <td>high</td>\n",
       "      <td>4180522</td>\n",
       "      <td>high</td>\n",
       "    </tr>\n",
       "    <tr>\n",
       "      <th>2020-06-20</th>\n",
       "      <td>150</td>\n",
       "      <td>8828267</td>\n",
       "      <td>high</td>\n",
       "      <td>464505</td>\n",
       "      <td>high</td>\n",
       "      <td>4300164</td>\n",
       "      <td>high</td>\n",
       "    </tr>\n",
       "    <tr>\n",
       "      <th>2020-06-21</th>\n",
       "      <td>151</td>\n",
       "      <td>8955903</td>\n",
       "      <td>high</td>\n",
       "      <td>468381</td>\n",
       "      <td>high</td>\n",
       "      <td>4368433</td>\n",
       "      <td>high</td>\n",
       "    </tr>\n",
       "    <tr>\n",
       "      <th>2020-06-22</th>\n",
       "      <td>152</td>\n",
       "      <td>9097902</td>\n",
       "      <td>high</td>\n",
       "      <td>472155</td>\n",
       "      <td>high</td>\n",
       "      <td>4459666</td>\n",
       "      <td>high</td>\n",
       "    </tr>\n",
       "  </tbody>\n",
       "</table>\n",
       "</div>"
      ],
      "text/plain": [
       "            Days Since  Confirmed Confirmed Rate  Deaths Death Rate  \\\n",
       "Date                                                                  \n",
       "2020-06-18         148    8488235           high  453963       high   \n",
       "2020-06-19         149    8666045           high  460053       high   \n",
       "2020-06-20         150    8828267           high  464505       high   \n",
       "2020-06-21         151    8955903           high  468381       high   \n",
       "2020-06-22         152    9097902           high  472155       high   \n",
       "\n",
       "            Recovered Recoverance Rate  \n",
       "Date                                    \n",
       "2020-06-18    4090382             high  \n",
       "2020-06-19    4180522             high  \n",
       "2020-06-20    4300164             high  \n",
       "2020-06-21    4368433             high  \n",
       "2020-06-22    4459666             high  "
      ]
     },
     "execution_count": 10,
     "metadata": {},
     "output_type": "execute_result"
    }
   ],
   "source": [
    "train_pr=world_data.iloc[:int(world_data.shape[0]*0.90)]\n",
    "test_pr=world_data.iloc[int(world_data.shape[0]*0.90):]\n",
    "test_pr.tail()"
   ]
  },
  {
   "cell_type": "code",
   "execution_count": 11,
   "metadata": {},
   "outputs": [
    {
     "data": {
      "text/plain": [
       "LinearRegression(copy_X=True, fit_intercept=True, n_jobs=None, normalize=True)"
      ]
     },
     "execution_count": 11,
     "metadata": {},
     "output_type": "execute_result"
    }
   ],
   "source": [
    "from sklearn.linear_model import *\n",
    "from sklearn.preprocessing import PolynomialFeatures\n",
    "from sklearn.metrics import mean_squared_error,r2_score,accuracy_score\n",
    "pr=PolynomialFeatures(degree=2)\n",
    "t=pr.fit_transform(np.array(train_pr[\"Days Since\"]).reshape(-1,1))\n",
    "te=pr.fit_transform(np.array(test_pr[\"Days Since\"]).reshape(-1,1))\n",
    "y=train_pr[\"Confirmed\"]\n",
    "lr=LinearRegression(normalize=True)\n",
    "lr.fit(t,y)"
   ]
  },
  {
   "cell_type": "code",
   "execution_count": 12,
   "metadata": {},
   "outputs": [],
   "source": [
    "pred_pr=lr.predict(te)\n",
    "#pred_pr,test_lr[\"Confirmed\"]"
   ]
  },
  {
   "cell_type": "code",
   "execution_count": 13,
   "metadata": {},
   "outputs": [
    {
     "name": "stdout",
     "output_type": "stream",
     "text": [
      "RMSE value for Polynomial Regression: 142932.86093897646\n"
     ]
    }
   ],
   "source": [
    "rmse=np.sqrt(mean_squared_error(test_pr[\"Confirmed\"],pred_pr))\n",
    "print(\"RMSE value for Polynomial Regression:\",rmse)"
   ]
  },
  {
   "cell_type": "code",
   "execution_count": 14,
   "metadata": {},
   "outputs": [
    {
     "data": {
      "text/html": [
       "<div>\n",
       "<style scoped>\n",
       "    .dataframe tbody tr th:only-of-type {\n",
       "        vertical-align: middle;\n",
       "    }\n",
       "\n",
       "    .dataframe tbody tr th {\n",
       "        vertical-align: top;\n",
       "    }\n",
       "\n",
       "    .dataframe thead th {\n",
       "        text-align: right;\n",
       "    }\n",
       "</style>\n",
       "<table border=\"1\" class=\"dataframe\">\n",
       "  <thead>\n",
       "    <tr style=\"text-align: right;\">\n",
       "      <th></th>\n",
       "      <th>Days Since</th>\n",
       "      <th>Confirmed</th>\n",
       "      <th>Confirmed Rate</th>\n",
       "      <th>Deaths</th>\n",
       "      <th>Death Rate</th>\n",
       "      <th>Recovered</th>\n",
       "      <th>Recoverance Rate</th>\n",
       "    </tr>\n",
       "    <tr>\n",
       "      <th>Date</th>\n",
       "      <th></th>\n",
       "      <th></th>\n",
       "      <th></th>\n",
       "      <th></th>\n",
       "      <th></th>\n",
       "      <th></th>\n",
       "      <th></th>\n",
       "    </tr>\n",
       "  </thead>\n",
       "  <tbody>\n",
       "    <tr>\n",
       "      <th>2020-01-22</th>\n",
       "      <td>0</td>\n",
       "      <td>555</td>\n",
       "      <td>low</td>\n",
       "      <td>17</td>\n",
       "      <td>low</td>\n",
       "      <td>28</td>\n",
       "      <td>low</td>\n",
       "    </tr>\n",
       "    <tr>\n",
       "      <th>2020-01-23</th>\n",
       "      <td>1</td>\n",
       "      <td>654</td>\n",
       "      <td>low</td>\n",
       "      <td>18</td>\n",
       "      <td>low</td>\n",
       "      <td>30</td>\n",
       "      <td>low</td>\n",
       "    </tr>\n",
       "    <tr>\n",
       "      <th>2020-01-24</th>\n",
       "      <td>2</td>\n",
       "      <td>941</td>\n",
       "      <td>low</td>\n",
       "      <td>26</td>\n",
       "      <td>low</td>\n",
       "      <td>36</td>\n",
       "      <td>low</td>\n",
       "    </tr>\n",
       "    <tr>\n",
       "      <th>2020-01-25</th>\n",
       "      <td>3</td>\n",
       "      <td>1434</td>\n",
       "      <td>low</td>\n",
       "      <td>42</td>\n",
       "      <td>low</td>\n",
       "      <td>39</td>\n",
       "      <td>low</td>\n",
       "    </tr>\n",
       "    <tr>\n",
       "      <th>2020-01-26</th>\n",
       "      <td>4</td>\n",
       "      <td>2118</td>\n",
       "      <td>low</td>\n",
       "      <td>56</td>\n",
       "      <td>low</td>\n",
       "      <td>52</td>\n",
       "      <td>low</td>\n",
       "    </tr>\n",
       "  </tbody>\n",
       "</table>\n",
       "</div>"
      ],
      "text/plain": [
       "            Days Since  Confirmed Confirmed Rate  Deaths Death Rate  \\\n",
       "Date                                                                  \n",
       "2020-01-22           0        555            low      17        low   \n",
       "2020-01-23           1        654            low      18        low   \n",
       "2020-01-24           2        941            low      26        low   \n",
       "2020-01-25           3       1434            low      42        low   \n",
       "2020-01-26           4       2118            low      56        low   \n",
       "\n",
       "            Recovered Recoverance Rate  \n",
       "Date                                    \n",
       "2020-01-22         28              low  \n",
       "2020-01-23         30              low  \n",
       "2020-01-24         36              low  \n",
       "2020-01-25         39              low  \n",
       "2020-01-26         52              low  "
      ]
     },
     "execution_count": 14,
     "metadata": {},
     "output_type": "execute_result"
    }
   ],
   "source": [
    "train_pr=world_data.iloc[:int(world_data.shape[0]*0.90)]\n",
    "test_pr=world_data.iloc[int(world_data.shape[0]*0.90):]\n",
    "train_pr.head()"
   ]
  },
  {
   "cell_type": "code",
   "execution_count": 15,
   "metadata": {},
   "outputs": [
    {
     "data": {
      "text/plain": [
       "LinearRegression(copy_X=True, fit_intercept=True, n_jobs=None, normalize=True)"
      ]
     },
     "execution_count": 15,
     "metadata": {},
     "output_type": "execute_result"
    }
   ],
   "source": [
    "from sklearn.linear_model import *\n",
    "lr_model=LinearRegression(normalize=True)\n",
    "lr_model.fit(np.array(train_pr[\"Days Since\"]).reshape(-1,1),np.array(train_pr[\"Confirmed\"]).reshape(-1,1))"
   ]
  },
  {
   "cell_type": "code",
   "execution_count": 16,
   "metadata": {},
   "outputs": [],
   "source": [
    "predict_lr=lr_model.predict(np.array(test_pr[\"Days Since\"]).reshape(-1,1))\n",
    "#predict_lr,test[\"Confirmed\"]"
   ]
  },
  {
   "cell_type": "code",
   "execution_count": 17,
   "metadata": {},
   "outputs": [
    {
     "name": "stdout",
     "output_type": "stream",
     "text": [
      "RMSE value for Linear Regression: 2338183.5721247997\n"
     ]
    }
   ],
   "source": [
    "rmse=np.sqrt(mean_squared_error(test_pr[\"Confirmed\"],predict_lr))\n",
    "print(\"RMSE value for Linear Regression:\",rmse)"
   ]
  },
  {
   "cell_type": "code",
   "execution_count": 18,
   "metadata": {
    "scrolled": true
   },
   "outputs": [
    {
     "data": {
      "text/html": [
       "<div>\n",
       "<style scoped>\n",
       "    .dataframe tbody tr th:only-of-type {\n",
       "        vertical-align: middle;\n",
       "    }\n",
       "\n",
       "    .dataframe tbody tr th {\n",
       "        vertical-align: top;\n",
       "    }\n",
       "\n",
       "    .dataframe thead th {\n",
       "        text-align: right;\n",
       "    }\n",
       "</style>\n",
       "<table border=\"1\" class=\"dataframe\">\n",
       "  <thead>\n",
       "    <tr style=\"text-align: right;\">\n",
       "      <th></th>\n",
       "      <th>Days Since</th>\n",
       "      <th>Confirmed</th>\n",
       "      <th>Confirmed Rate</th>\n",
       "      <th>Deaths</th>\n",
       "      <th>Death Rate</th>\n",
       "      <th>Recovered</th>\n",
       "      <th>Recoverance Rate</th>\n",
       "    </tr>\n",
       "    <tr>\n",
       "      <th>Date</th>\n",
       "      <th></th>\n",
       "      <th></th>\n",
       "      <th></th>\n",
       "      <th></th>\n",
       "      <th></th>\n",
       "      <th></th>\n",
       "      <th></th>\n",
       "    </tr>\n",
       "  </thead>\n",
       "  <tbody>\n",
       "    <tr>\n",
       "      <th>2020-01-22</th>\n",
       "      <td>0</td>\n",
       "      <td>555</td>\n",
       "      <td>low</td>\n",
       "      <td>17</td>\n",
       "      <td>low</td>\n",
       "      <td>28</td>\n",
       "      <td>low</td>\n",
       "    </tr>\n",
       "    <tr>\n",
       "      <th>2020-01-23</th>\n",
       "      <td>1</td>\n",
       "      <td>654</td>\n",
       "      <td>low</td>\n",
       "      <td>18</td>\n",
       "      <td>low</td>\n",
       "      <td>30</td>\n",
       "      <td>low</td>\n",
       "    </tr>\n",
       "    <tr>\n",
       "      <th>2020-01-24</th>\n",
       "      <td>2</td>\n",
       "      <td>941</td>\n",
       "      <td>low</td>\n",
       "      <td>26</td>\n",
       "      <td>low</td>\n",
       "      <td>36</td>\n",
       "      <td>low</td>\n",
       "    </tr>\n",
       "    <tr>\n",
       "      <th>2020-01-25</th>\n",
       "      <td>3</td>\n",
       "      <td>1434</td>\n",
       "      <td>low</td>\n",
       "      <td>42</td>\n",
       "      <td>low</td>\n",
       "      <td>39</td>\n",
       "      <td>low</td>\n",
       "    </tr>\n",
       "    <tr>\n",
       "      <th>2020-01-26</th>\n",
       "      <td>4</td>\n",
       "      <td>2118</td>\n",
       "      <td>low</td>\n",
       "      <td>56</td>\n",
       "      <td>low</td>\n",
       "      <td>52</td>\n",
       "      <td>low</td>\n",
       "    </tr>\n",
       "  </tbody>\n",
       "</table>\n",
       "</div>"
      ],
      "text/plain": [
       "            Days Since  Confirmed Confirmed Rate  Deaths Death Rate  \\\n",
       "Date                                                                  \n",
       "2020-01-22           0        555            low      17        low   \n",
       "2020-01-23           1        654            low      18        low   \n",
       "2020-01-24           2        941            low      26        low   \n",
       "2020-01-25           3       1434            low      42        low   \n",
       "2020-01-26           4       2118            low      56        low   \n",
       "\n",
       "            Recovered Recoverance Rate  \n",
       "Date                                    \n",
       "2020-01-22         28              low  \n",
       "2020-01-23         30              low  \n",
       "2020-01-24         36              low  \n",
       "2020-01-25         39              low  \n",
       "2020-01-26         52              low  "
      ]
     },
     "execution_count": 18,
     "metadata": {},
     "output_type": "execute_result"
    }
   ],
   "source": [
    "train_svm=world_data.iloc[:int(world_data.shape[0]*0.90)]\n",
    "test_svm=world_data.iloc[int(world_data.shape[0]*0.90):]\n",
    "train_svm.head()"
   ]
  },
  {
   "cell_type": "code",
   "execution_count": 19,
   "metadata": {},
   "outputs": [],
   "source": [
    "svm=SVR(C=3,degree=3,kernel=\"poly\",epsilon=0.01)"
   ]
  },
  {
   "cell_type": "code",
   "execution_count": 20,
   "metadata": {},
   "outputs": [
    {
     "name": "stderr",
     "output_type": "stream",
     "text": [
      "C:\\Users\\pratyusha\\anaconda3\\lib\\site-packages\\sklearn\\utils\\validation.py:760: DataConversionWarning: A column-vector y was passed when a 1d array was expected. Please change the shape of y to (n_samples, ), for example using ravel().\n",
      "  y = column_or_1d(y, warn=True)\n"
     ]
    },
    {
     "data": {
      "text/plain": [
       "SVR(C=3, cache_size=200, coef0=0.0, degree=3, epsilon=0.01, gamma='scale',\n",
       "    kernel='poly', max_iter=-1, shrinking=True, tol=0.001, verbose=False)"
      ]
     },
     "execution_count": 20,
     "metadata": {},
     "output_type": "execute_result"
    }
   ],
   "source": [
    "svm.fit(np.array(train_svm[\"Days Since\"]).reshape(-1,1),np.array(train_svm[\"Confirmed\"]).reshape(-1,1))"
   ]
  },
  {
   "cell_type": "code",
   "execution_count": 21,
   "metadata": {},
   "outputs": [
    {
     "data": {
      "text/plain": [
       "(array([917526.66084373, 920911.16360977, 924345.0743042 , 927828.75095548,\n",
       "        931362.55159209, 934946.83424248, 938581.95693513, 942268.27769851,\n",
       "        946006.15456107, 949795.94555128, 953638.00869762, 957532.70202854,\n",
       "        961480.38357252, 965481.41135802, 969536.14341351, 973644.93776745]),\n",
       " Date\n",
       " 2020-06-07    7014998\n",
       " 2020-06-08    7118614\n",
       " 2020-06-09    7241951\n",
       " 2020-06-10    7375592\n",
       " 2020-06-11    7513983\n",
       " 2020-06-12    7643519\n",
       " 2020-06-13    7778140\n",
       " 2020-06-14    7911685\n",
       " 2020-06-15    8033720\n",
       " 2020-06-16    8173199\n",
       " 2020-06-17    8349209\n",
       " 2020-06-18    8488235\n",
       " 2020-06-19    8666045\n",
       " 2020-06-20    8828267\n",
       " 2020-06-21    8955903\n",
       " 2020-06-22    9097902\n",
       " Name: Confirmed, dtype: int32)"
      ]
     },
     "execution_count": 21,
     "metadata": {},
     "output_type": "execute_result"
    }
   ],
   "source": [
    "c=svm.predict(np.array(test_svm[\"Days Since\"]).reshape(-1,1))\n",
    "c,test_svm[\"Confirmed\"]"
   ]
  },
  {
   "cell_type": "code",
   "execution_count": 22,
   "metadata": {},
   "outputs": [
    {
     "name": "stdout",
     "output_type": "stream",
     "text": [
      "RMSE value for SVM: 7095567.000888053\n"
     ]
    }
   ],
   "source": [
    "rmse=np.sqrt(mean_squared_error(test_svm[\"Confirmed\"],c))\n",
    "print(\"RMSE value for SVM:\",rmse)"
   ]
  },
  {
   "cell_type": "code",
   "execution_count": 24,
   "metadata": {},
   "outputs": [
    {
     "name": "stdout",
     "output_type": "stream",
     "text": [
      "3\n"
     ]
    },
    {
     "data": {
      "text/plain": [
       "[9342335.365116477, 9489187.055291882, 9637171.138224725]"
      ]
     },
     "execution_count": 24,
     "metadata": {},
     "output_type": "execute_result"
    }
   ],
   "source": [
    "pre_poly=[]\n",
    "s=int(input())\n",
    "for i in range(1,s+1):\n",
    "    pre_data_poly=pr.fit_transform(np.array(world_data[\"Days Since\"].max()+i).reshape(-1,1))\n",
    "    pre_poly.append(lr.predict(pre_data_poly)[0])\n",
    "pre_poly"
   ]
  },
  {
   "cell_type": "code",
   "execution_count": 25,
   "metadata": {},
   "outputs": [],
   "source": [
    "from datetime import timedelta\n",
    "pre_date=[]\n",
    "pre_lr=[]\n",
    "pre_svm=[]\n",
    "for i in range(1,s+1):\n",
    "    pre_date.append(world_data.index[-1]+timedelta(days=i))\n",
    "    pre_lr.append(lr_model.predict(np.array(world_data[\"Days Since\"].max()+i).reshape(-1,1))[0][0])\n",
    "    pre_svm.append(svm.predict(np.array(world_data[\"Days Since\"].max()+i).reshape(-1,1))[0])"
   ]
  },
  {
   "cell_type": "code",
   "execution_count": 26,
   "metadata": {},
   "outputs": [
    {
     "data": {
      "text/html": [
       "<div>\n",
       "<style scoped>\n",
       "    .dataframe tbody tr th:only-of-type {\n",
       "        vertical-align: middle;\n",
       "    }\n",
       "\n",
       "    .dataframe tbody tr th {\n",
       "        vertical-align: top;\n",
       "    }\n",
       "\n",
       "    .dataframe thead th {\n",
       "        text-align: right;\n",
       "    }\n",
       "</style>\n",
       "<table border=\"1\" class=\"dataframe\">\n",
       "  <thead>\n",
       "    <tr style=\"text-align: right;\">\n",
       "      <th></th>\n",
       "      <th>Date</th>\n",
       "      <th>Linear Regression</th>\n",
       "      <th>Polynomial Regression</th>\n",
       "      <th>SVM</th>\n",
       "    </tr>\n",
       "  </thead>\n",
       "  <tbody>\n",
       "    <tr>\n",
       "      <th>0</th>\n",
       "      <td>2020-06-23</td>\n",
       "      <td>6137097.665186</td>\n",
       "      <td>9342335.365116</td>\n",
       "      <td>977808.152448</td>\n",
       "    </tr>\n",
       "    <tr>\n",
       "      <th>1</th>\n",
       "      <td>2020-06-24</td>\n",
       "      <td>6187129.774600</td>\n",
       "      <td>9489187.055292</td>\n",
       "      <td>982026.145485</td>\n",
       "    </tr>\n",
       "    <tr>\n",
       "      <th>2</th>\n",
       "      <td>2020-06-25</td>\n",
       "      <td>6237161.884014</td>\n",
       "      <td>9637171.138225</td>\n",
       "      <td>986299.274905</td>\n",
       "    </tr>\n",
       "  </tbody>\n",
       "</table>\n",
       "</div>"
      ],
      "text/plain": [
       "        Date  Linear Regression  Polynomial Regression           SVM\n",
       "0 2020-06-23     6137097.665186         9342335.365116 977808.152448\n",
       "1 2020-06-24     6187129.774600         9489187.055292 982026.145485\n",
       "2 2020-06-25     6237161.884014         9637171.138225 986299.274905"
      ]
     },
     "execution_count": 26,
     "metadata": {},
     "output_type": "execute_result"
    }
   ],
   "source": [
    "pd.set_option('display.float_format',lambda x: '%.6f' % x)\n",
    "model_prediction=pd.DataFrame(zip(pre_date,pre_lr,pre_poly,pre_svm),columns=[\"Date\",\"Linear Regression\",\"Polynomial Regression\",\"SVM\"])\n",
    "model_prediction"
   ]
  },
  {
   "cell_type": "code",
   "execution_count": 27,
   "metadata": {},
   "outputs": [
    {
     "name": "stderr",
     "output_type": "stream",
     "text": [
      "No handles with labels found to put in legend.\n"
     ]
    },
    {
     "data": {
      "text/plain": [
       "<matplotlib.legend.Legend at 0x11120835f08>"
      ]
     },
     "execution_count": 27,
     "metadata": {},
     "output_type": "execute_result"
    },
    {
     "data": {
      "image/png": "[encoded data removed]",
      "text/plain": [
       "<Figure size 720x360 with 1 Axes>"
      ]
     },
     "metadata": {
      "needs_background": "light"
     },
     "output_type": "display_data"
    }
   ],
   "source": [
    "plt.figure(figsize=(10,5))\n",
    "plt.plot(model_prediction[\"Date\"],model_prediction[\"Linear Regression\"])\n",
    "plt.plot(model_prediction[\"Date\"],model_prediction[\"Polynomial Regression\"])\n",
    "plt.plot(model_prediction[\"Date\"],model_prediction[\"SVM\"])\n",
    "plt.xlabel(\"Date\")\n",
    "plt.ylabel(\"No of Cases\")\n",
    "plt.title(\"Daily prediction of Conformed Cases\")\n",
    "plt.xticks(rotation=45)\n",
    "plt.legend()"
   ]
  },
  {
   "cell_type": "markdown",
   "metadata": {},
   "source": [
    "Predicting Deaths"
   ]
  },
  {
   "cell_type": "code",
   "execution_count": 28,
   "metadata": {},
   "outputs": [
    {
     "data": {
      "text/plain": [
       "LinearRegression(copy_X=True, fit_intercept=True, n_jobs=None, normalize=True)"
      ]
     },
     "execution_count": 28,
     "metadata": {},
     "output_type": "execute_result"
    }
   ],
   "source": [
    "from sklearn.linear_model import *\n",
    "from sklearn.preprocessing import PolynomialFeatures\n",
    "from sklearn.metrics import mean_squared_error,r2_score,accuracy_score\n",
    "pr=PolynomialFeatures(degree=2)\n",
    "t=pr.fit_transform(np.array(train_pr[\"Days Since\"]).reshape(-1,1))\n",
    "te=pr.fit_transform(np.array(test_pr[\"Days Since\"]).reshape(-1,1))\n",
    "y=train_pr[\"Deaths\"]\n",
    "lr=LinearRegression(normalize=True)\n",
    "lr.fit(t,y)"
   ]
  },
  {
   "cell_type": "code",
   "execution_count": 29,
   "metadata": {},
   "outputs": [],
   "source": [
    "pred_pr=lr.predict(te)\n",
    "#pred_pr,test_pr[\"Deaths\"]"
   ]
  },
  {
   "cell_type": "code",
   "execution_count": 30,
   "metadata": {},
   "outputs": [
    {
     "name": "stdout",
     "output_type": "stream",
     "text": [
      "RMSE value for Polynomial Regression: 79277.16774181055\n"
     ]
    }
   ],
   "source": [
    "rmse=np.sqrt(mean_squared_error(test_pr[\"Deaths\"],pred_pr))\n",
    "print(\"RMSE value for Polynomial Regression:\",rmse)"
   ]
  },
  {
   "cell_type": "code",
   "execution_count": 31,
   "metadata": {},
   "outputs": [
    {
     "data": {
      "text/plain": [
       "LinearRegression(copy_X=True, fit_intercept=True, n_jobs=None, normalize=True)"
      ]
     },
     "execution_count": 31,
     "metadata": {},
     "output_type": "execute_result"
    }
   ],
   "source": [
    "lr_model=LinearRegression(normalize=True)\n",
    "lr_model.fit(np.array(train_pr[\"Days Since\"]).reshape(-1,1),np.array(train_pr[\"Deaths\"]).reshape(-1,1))"
   ]
  },
  {
   "cell_type": "code",
   "execution_count": 32,
   "metadata": {},
   "outputs": [],
   "source": [
    "predict_lr=lr_model.predict(np.array(test_pr[\"Days Since\"]).reshape(-1,1))\n",
    "#predict_lr,test_pr[\"Deaths\"]"
   ]
  },
  {
   "cell_type": "code",
   "execution_count": 33,
   "metadata": {},
   "outputs": [
    {
     "name": "stdout",
     "output_type": "stream",
     "text": [
      "RMSE value for Linear Regression: 67986.23752706077\n"
     ]
    }
   ],
   "source": [
    "rmse=np.sqrt(mean_squared_error(test_pr[\"Deaths\"],predict_lr))\n",
    "print(\"RMSE value for Linear Regression:\",rmse)"
   ]
  },
  {
   "cell_type": "code",
   "execution_count": 34,
   "metadata": {},
   "outputs": [
    {
     "data": {
      "text/html": [
       "<div>\n",
       "<style scoped>\n",
       "    .dataframe tbody tr th:only-of-type {\n",
       "        vertical-align: middle;\n",
       "    }\n",
       "\n",
       "    .dataframe tbody tr th {\n",
       "        vertical-align: top;\n",
       "    }\n",
       "\n",
       "    .dataframe thead th {\n",
       "        text-align: right;\n",
       "    }\n",
       "</style>\n",
       "<table border=\"1\" class=\"dataframe\">\n",
       "  <thead>\n",
       "    <tr style=\"text-align: right;\">\n",
       "      <th></th>\n",
       "      <th>Days Since</th>\n",
       "      <th>Confirmed</th>\n",
       "      <th>Confirmed Rate</th>\n",
       "      <th>Deaths</th>\n",
       "      <th>Death Rate</th>\n",
       "      <th>Recovered</th>\n",
       "      <th>Recoverance Rate</th>\n",
       "    </tr>\n",
       "    <tr>\n",
       "      <th>Date</th>\n",
       "      <th></th>\n",
       "      <th></th>\n",
       "      <th></th>\n",
       "      <th></th>\n",
       "      <th></th>\n",
       "      <th></th>\n",
       "      <th></th>\n",
       "    </tr>\n",
       "  </thead>\n",
       "  <tbody>\n",
       "    <tr>\n",
       "      <th>2020-06-18</th>\n",
       "      <td>148</td>\n",
       "      <td>8488235</td>\n",
       "      <td>high</td>\n",
       "      <td>453963</td>\n",
       "      <td>high</td>\n",
       "      <td>4090382</td>\n",
       "      <td>high</td>\n",
       "    </tr>\n",
       "    <tr>\n",
       "      <th>2020-06-19</th>\n",
       "      <td>149</td>\n",
       "      <td>8666045</td>\n",
       "      <td>high</td>\n",
       "      <td>460053</td>\n",
       "      <td>high</td>\n",
       "      <td>4180522</td>\n",
       "      <td>high</td>\n",
       "    </tr>\n",
       "    <tr>\n",
       "      <th>2020-06-20</th>\n",
       "      <td>150</td>\n",
       "      <td>8828267</td>\n",
       "      <td>high</td>\n",
       "      <td>464505</td>\n",
       "      <td>high</td>\n",
       "      <td>4300164</td>\n",
       "      <td>high</td>\n",
       "    </tr>\n",
       "    <tr>\n",
       "      <th>2020-06-21</th>\n",
       "      <td>151</td>\n",
       "      <td>8955903</td>\n",
       "      <td>high</td>\n",
       "      <td>468381</td>\n",
       "      <td>high</td>\n",
       "      <td>4368433</td>\n",
       "      <td>high</td>\n",
       "    </tr>\n",
       "    <tr>\n",
       "      <th>2020-06-22</th>\n",
       "      <td>152</td>\n",
       "      <td>9097902</td>\n",
       "      <td>high</td>\n",
       "      <td>472155</td>\n",
       "      <td>high</td>\n",
       "      <td>4459666</td>\n",
       "      <td>high</td>\n",
       "    </tr>\n",
       "  </tbody>\n",
       "</table>\n",
       "</div>"
      ],
      "text/plain": [
       "            Days Since  Confirmed Confirmed Rate  Deaths Death Rate  \\\n",
       "Date                                                                  \n",
       "2020-06-18         148    8488235           high  453963       high   \n",
       "2020-06-19         149    8666045           high  460053       high   \n",
       "2020-06-20         150    8828267           high  464505       high   \n",
       "2020-06-21         151    8955903           high  468381       high   \n",
       "2020-06-22         152    9097902           high  472155       high   \n",
       "\n",
       "            Recovered Recoverance Rate  \n",
       "Date                                    \n",
       "2020-06-18    4090382             high  \n",
       "2020-06-19    4180522             high  \n",
       "2020-06-20    4300164             high  \n",
       "2020-06-21    4368433             high  \n",
       "2020-06-22    4459666             high  "
      ]
     },
     "execution_count": 34,
     "metadata": {},
     "output_type": "execute_result"
    }
   ],
   "source": [
    "train_svm=world_data.iloc[:int(world_data.shape[0]*0.90)]\n",
    "test_svm=world_data.iloc[int(world_data.shape[0]*0.90):]\n",
    "test_svm.tail()"
   ]
  },
  {
   "cell_type": "code",
   "execution_count": 35,
   "metadata": {},
   "outputs": [],
   "source": [
    "svm=SVR(C=2,degree=3,kernel=\"poly\",epsilon=0.01)"
   ]
  },
  {
   "cell_type": "code",
   "execution_count": 36,
   "metadata": {},
   "outputs": [
    {
     "name": "stderr",
     "output_type": "stream",
     "text": [
      "C:\\Users\\pratyusha\\anaconda3\\lib\\site-packages\\sklearn\\utils\\validation.py:760: DataConversionWarning: A column-vector y was passed when a 1d array was expected. Please change the shape of y to (n_samples, ), for example using ravel().\n",
      "  y = column_or_1d(y, warn=True)\n"
     ]
    },
    {
     "data": {
      "text/plain": [
       "SVR(C=2, cache_size=200, coef0=0.0, degree=3, epsilon=0.01, gamma='scale',\n",
       "    kernel='poly', max_iter=-1, shrinking=True, tol=0.001, verbose=False)"
      ]
     },
     "execution_count": 36,
     "metadata": {},
     "output_type": "execute_result"
    }
   ],
   "source": [
    "svm.fit(np.array(train_svm[\"Days Since\"]).reshape(-1,1),np.array(train_svm[\"Deaths\"]).reshape(-1,1))"
   ]
  },
  {
   "cell_type": "code",
   "execution_count": 37,
   "metadata": {},
   "outputs": [
    {
     "data": {
      "text/plain": [
       "(array([129375.44056249, 131631.77573985, 133921.04953613, 136243.50063699,\n",
       "        138599.36772806, 140988.88949499, 143412.30462342, 145869.851799  ,\n",
       "        148361.76970738, 150888.29703419, 153449.67246508, 156046.13468569,\n",
       "        158677.92238168, 161345.27423868, 164048.42894234, 166787.6251783 ]),\n",
       " Date\n",
       " 2020-06-07    402840\n",
       " 2020-06-08    406584\n",
       " 2020-06-09    411445\n",
       " 2020-06-10    416654\n",
       " 2020-06-11    421445\n",
       " 2020-06-12    425764\n",
       " 2020-06-13    430031\n",
       " 2020-06-14    433375\n",
       " 2020-06-15    436883\n",
       " 2020-06-16    443669\n",
       " 2020-06-17    448943\n",
       " 2020-06-18    453963\n",
       " 2020-06-19    460053\n",
       " 2020-06-20    464505\n",
       " 2020-06-21    468381\n",
       " 2020-06-22    472155\n",
       " Name: Deaths, dtype: int32)"
      ]
     },
     "execution_count": 37,
     "metadata": {},
     "output_type": "execute_result"
    }
   ],
   "source": [
    "c=svm.predict(np.array(test_svm[\"Days Since\"]).reshape(-1,1))\n",
    "c,test_svm[\"Deaths\"]"
   ]
  },
  {
   "cell_type": "code",
   "execution_count": 38,
   "metadata": {},
   "outputs": [
    {
     "name": "stdout",
     "output_type": "stream",
     "text": [
      "RMSE value for SVM: 289997.33769556216\n"
     ]
    }
   ],
   "source": [
    "rmse=np.sqrt(mean_squared_error(test_svm[\"Deaths\"],c))\n",
    "print(\"RMSE value for SVM:\",rmse)"
   ]
  },
  {
   "cell_type": "code",
   "execution_count": 39,
   "metadata": {},
   "outputs": [
    {
     "data": {
      "text/plain": [
       "[587792.1684859667, 596791.9145181326, 605858.9883848518]"
      ]
     },
     "execution_count": 39,
     "metadata": {},
     "output_type": "execute_result"
    }
   ],
   "source": [
    "pre_poly=[]\n",
    "for i in range(1,s+1):\n",
    "    pre_data_poly=pr.fit_transform(np.array(world_data[\"Days Since\"].max()+i).reshape(-1,1))\n",
    "    pre_poly.append(lr.predict(pre_data_poly)[0])\n",
    "pre_poly"
   ]
  },
  {
   "cell_type": "code",
   "execution_count": 40,
   "metadata": {},
   "outputs": [],
   "source": [
    "from datetime import timedelta\n",
    "pre_date=[]\n",
    "pre_lr=[]\n",
    "pre_svm=[]\n",
    "for i in range(1,s+1):\n",
    "    pre_date.append(world_data.index[-1]+timedelta(days=i))\n",
    "    pre_lr.append(lr_model.predict(np.array(world_data[\"Days Since\"].max()+i).reshape(-1,1))[0][0])\n",
    "    pre_svm.append(svm.predict(np.array(world_data[\"Days Since\"].max()+i).reshape(-1,1))[0])"
   ]
  },
  {
   "cell_type": "code",
   "execution_count": 41,
   "metadata": {},
   "outputs": [
    {
     "data": {
      "text/html": [
       "<div>\n",
       "<style scoped>\n",
       "    .dataframe tbody tr th:only-of-type {\n",
       "        vertical-align: middle;\n",
       "    }\n",
       "\n",
       "    .dataframe tbody tr th {\n",
       "        vertical-align: top;\n",
       "    }\n",
       "\n",
       "    .dataframe thead th {\n",
       "        text-align: right;\n",
       "    }\n",
       "</style>\n",
       "<table border=\"1\" class=\"dataframe\">\n",
       "  <thead>\n",
       "    <tr style=\"text-align: right;\">\n",
       "      <th></th>\n",
       "      <th>Date</th>\n",
       "      <th>Linear Regression</th>\n",
       "      <th>Polynomial Regression</th>\n",
       "      <th>SVM</th>\n",
       "    </tr>\n",
       "  </thead>\n",
       "  <tbody>\n",
       "    <tr>\n",
       "      <th>0</th>\n",
       "      <td>2020-06-23</td>\n",
       "      <td>397220.732783</td>\n",
       "      <td>587792.168486</td>\n",
       "      <td>169563.101632</td>\n",
       "    </tr>\n",
       "    <tr>\n",
       "      <th>1</th>\n",
       "      <td>2020-06-24</td>\n",
       "      <td>400463.948961</td>\n",
       "      <td>596791.914518</td>\n",
       "      <td>172375.096990</td>\n",
       "    </tr>\n",
       "    <tr>\n",
       "      <th>2</th>\n",
       "      <td>2020-06-25</td>\n",
       "      <td>403707.165139</td>\n",
       "      <td>605858.988385</td>\n",
       "      <td>175223.849936</td>\n",
       "    </tr>\n",
       "  </tbody>\n",
       "</table>\n",
       "</div>"
      ],
      "text/plain": [
       "        Date  Linear Regression  Polynomial Regression           SVM\n",
       "0 2020-06-23      397220.732783          587792.168486 169563.101632\n",
       "1 2020-06-24      400463.948961          596791.914518 172375.096990\n",
       "2 2020-06-25      403707.165139          605858.988385 175223.849936"
      ]
     },
     "execution_count": 41,
     "metadata": {},
     "output_type": "execute_result"
    }
   ],
   "source": [
    "pd.set_option('display.float_format',lambda x: '%.6f' % x)\n",
    "model_prediction=pd.DataFrame(zip(pre_date,pre_lr,pre_poly,pre_svm),columns=[\"Date\",\"Linear Regression\",\"Polynomial Regression\",\"SVM\"])\n",
    "model_prediction"
   ]
  },
  {
   "cell_type": "code",
   "execution_count": 42,
   "metadata": {},
   "outputs": [
    {
     "name": "stderr",
     "output_type": "stream",
     "text": [
      "No handles with labels found to put in legend.\n"
     ]
    },
    {
     "data": {
      "text/plain": [
       "<matplotlib.legend.Legend at 0x111208b6b48>"
      ]
     },
     "execution_count": 42,
     "metadata": {},
     "output_type": "execute_result"
    },
    {
     "data": {
      "image/png": "[encoded data removed]",
      "text/plain": [
       "<Figure size 720x360 with 1 Axes>"
      ]
     },
     "metadata": {
      "needs_background": "light"
     },
     "output_type": "display_data"
    }
   ],
   "source": [
    "plt.figure(figsize=(10,5))\n",
    "plt.plot(model_prediction[\"Date\"],model_prediction[\"Linear Regression\"])\n",
    "plt.plot(model_prediction[\"Date\"],model_prediction[\"Polynomial Regression\"])\n",
    "plt.plot(model_prediction[\"Date\"],model_prediction[\"SVM\"])\n",
    "plt.xlabel(\"Date\")\n",
    "plt.ylabel(\"No of Cases\")\n",
    "plt.title(\"Daily prediction of Death Cases\")\n",
    "plt.xticks(rotation=45)\n",
    "plt.legend()"
   ]
  },
  {
   "cell_type": "markdown",
   "metadata": {},
   "source": [
    "Pridicting Recovery Cases"
   ]
  },
  {
   "cell_type": "code",
   "execution_count": 43,
   "metadata": {},
   "outputs": [
    {
     "data": {
      "text/html": [
       "<div>\n",
       "<style scoped>\n",
       "    .dataframe tbody tr th:only-of-type {\n",
       "        vertical-align: middle;\n",
       "    }\n",
       "\n",
       "    .dataframe tbody tr th {\n",
       "        vertical-align: top;\n",
       "    }\n",
       "\n",
       "    .dataframe thead th {\n",
       "        text-align: right;\n",
       "    }\n",
       "</style>\n",
       "<table border=\"1\" class=\"dataframe\">\n",
       "  <thead>\n",
       "    <tr style=\"text-align: right;\">\n",
       "      <th></th>\n",
       "      <th>Days Since</th>\n",
       "      <th>Confirmed</th>\n",
       "      <th>Confirmed Rate</th>\n",
       "      <th>Deaths</th>\n",
       "      <th>Death Rate</th>\n",
       "      <th>Recovered</th>\n",
       "      <th>Recoverance Rate</th>\n",
       "    </tr>\n",
       "    <tr>\n",
       "      <th>Date</th>\n",
       "      <th></th>\n",
       "      <th></th>\n",
       "      <th></th>\n",
       "      <th></th>\n",
       "      <th></th>\n",
       "      <th></th>\n",
       "      <th></th>\n",
       "    </tr>\n",
       "  </thead>\n",
       "  <tbody>\n",
       "    <tr>\n",
       "      <th>2020-06-18</th>\n",
       "      <td>148</td>\n",
       "      <td>8488235</td>\n",
       "      <td>high</td>\n",
       "      <td>453963</td>\n",
       "      <td>high</td>\n",
       "      <td>4090382</td>\n",
       "      <td>high</td>\n",
       "    </tr>\n",
       "    <tr>\n",
       "      <th>2020-06-19</th>\n",
       "      <td>149</td>\n",
       "      <td>8666045</td>\n",
       "      <td>high</td>\n",
       "      <td>460053</td>\n",
       "      <td>high</td>\n",
       "      <td>4180522</td>\n",
       "      <td>high</td>\n",
       "    </tr>\n",
       "    <tr>\n",
       "      <th>2020-06-20</th>\n",
       "      <td>150</td>\n",
       "      <td>8828267</td>\n",
       "      <td>high</td>\n",
       "      <td>464505</td>\n",
       "      <td>high</td>\n",
       "      <td>4300164</td>\n",
       "      <td>high</td>\n",
       "    </tr>\n",
       "    <tr>\n",
       "      <th>2020-06-21</th>\n",
       "      <td>151</td>\n",
       "      <td>8955903</td>\n",
       "      <td>high</td>\n",
       "      <td>468381</td>\n",
       "      <td>high</td>\n",
       "      <td>4368433</td>\n",
       "      <td>high</td>\n",
       "    </tr>\n",
       "    <tr>\n",
       "      <th>2020-06-22</th>\n",
       "      <td>152</td>\n",
       "      <td>9097902</td>\n",
       "      <td>high</td>\n",
       "      <td>472155</td>\n",
       "      <td>high</td>\n",
       "      <td>4459666</td>\n",
       "      <td>high</td>\n",
       "    </tr>\n",
       "  </tbody>\n",
       "</table>\n",
       "</div>"
      ],
      "text/plain": [
       "            Days Since  Confirmed Confirmed Rate  Deaths Death Rate  \\\n",
       "Date                                                                  \n",
       "2020-06-18         148    8488235           high  453963       high   \n",
       "2020-06-19         149    8666045           high  460053       high   \n",
       "2020-06-20         150    8828267           high  464505       high   \n",
       "2020-06-21         151    8955903           high  468381       high   \n",
       "2020-06-22         152    9097902           high  472155       high   \n",
       "\n",
       "            Recovered Recoverance Rate  \n",
       "Date                                    \n",
       "2020-06-18    4090382             high  \n",
       "2020-06-19    4180522             high  \n",
       "2020-06-20    4300164             high  \n",
       "2020-06-21    4368433             high  \n",
       "2020-06-22    4459666             high  "
      ]
     },
     "execution_count": 43,
     "metadata": {},
     "output_type": "execute_result"
    }
   ],
   "source": [
    "train_pr=world_data.iloc[:int(world_data.shape[0]*0.90)]\n",
    "test_pr=world_data.iloc[int(world_data.shape[0]*0.90):]\n",
    "test_pr.tail()"
   ]
  },
  {
   "cell_type": "code",
   "execution_count": 44,
   "metadata": {},
   "outputs": [
    {
     "data": {
      "text/plain": [
       "LinearRegression(copy_X=True, fit_intercept=True, n_jobs=None, normalize=True)"
      ]
     },
     "execution_count": 44,
     "metadata": {},
     "output_type": "execute_result"
    }
   ],
   "source": [
    "from sklearn.linear_model import *\n",
    "from sklearn.preprocessing import PolynomialFeatures\n",
    "from sklearn.metrics import mean_squared_error,r2_score,accuracy_score\n",
    "pr=PolynomialFeatures(degree=2)\n",
    "t=pr.fit_transform(np.array(train_pr[\"Days Since\"]).reshape(-1,1))\n",
    "te=pr.fit_transform(np.array(test_pr[\"Days Since\"]).reshape(-1,1))\n",
    "y=train_pr[\"Recovered\"]\n",
    "lr=LinearRegression(normalize=True)\n",
    "lr.fit(t,y)"
   ]
  },
  {
   "cell_type": "code",
   "execution_count": 45,
   "metadata": {},
   "outputs": [
    {
     "data": {
      "text/plain": [
       "(array([2852542.5324412 , 2910787.53810804, 2969600.76383891,\n",
       "        3028982.2096338 , 3088931.87549273, 3149449.76141569,\n",
       "        3210535.86740267, 3272190.19345369, 3334412.73956874,\n",
       "        3397203.50574781, 3460562.49199091, 3524489.69829805,\n",
       "        3588985.12466921, 3654048.7711044 , 3719680.63760362,\n",
       "        3785880.72416687]),\n",
       " Date\n",
       " 2020-06-07    3086268\n",
       " 2020-06-08    3237190\n",
       " 2020-06-09    3318671\n",
       " 2020-06-10    3396704\n",
       " 2020-06-11    3481671\n",
       " 2020-06-12    3560483\n",
       " 2020-06-13    3645598\n",
       " 2020-06-14    3715556\n",
       " 2020-06-15    3794955\n",
       " 2020-06-16    3892350\n",
       " 2020-06-17    4009755\n",
       " 2020-06-18    4090382\n",
       " 2020-06-19    4180522\n",
       " 2020-06-20    4300164\n",
       " 2020-06-21    4368433\n",
       " 2020-06-22    4459666\n",
       " Name: Recovered, dtype: int32)"
      ]
     },
     "execution_count": 45,
     "metadata": {},
     "output_type": "execute_result"
    }
   ],
   "source": [
    "pred_pr=lr.predict(te)\n",
    "pred_pr,test_pr[\"Recovered\"]"
   ]
  },
  {
   "cell_type": "code",
   "execution_count": 46,
   "metadata": {},
   "outputs": [
    {
     "name": "stdout",
     "output_type": "stream",
     "text": [
      "RMSE value for Polynomial Regression: 490448.9568813703\n"
     ]
    }
   ],
   "source": [
    "rmse=np.sqrt(mean_squared_error(test_pr[\"Recovered\"],pred_pr))\n",
    "print(\"RMSE value for Polynomial Regression:\",rmse)"
   ]
  },
  {
   "cell_type": "code",
   "execution_count": 47,
   "metadata": {},
   "outputs": [
    {
     "data": {
      "text/html": [
       "<div>\n",
       "<style scoped>\n",
       "    .dataframe tbody tr th:only-of-type {\n",
       "        vertical-align: middle;\n",
       "    }\n",
       "\n",
       "    .dataframe tbody tr th {\n",
       "        vertical-align: top;\n",
       "    }\n",
       "\n",
       "    .dataframe thead th {\n",
       "        text-align: right;\n",
       "    }\n",
       "</style>\n",
       "<table border=\"1\" class=\"dataframe\">\n",
       "  <thead>\n",
       "    <tr style=\"text-align: right;\">\n",
       "      <th></th>\n",
       "      <th>Days Since</th>\n",
       "      <th>Confirmed</th>\n",
       "      <th>Confirmed Rate</th>\n",
       "      <th>Deaths</th>\n",
       "      <th>Death Rate</th>\n",
       "      <th>Recovered</th>\n",
       "      <th>Recoverance Rate</th>\n",
       "    </tr>\n",
       "    <tr>\n",
       "      <th>Date</th>\n",
       "      <th></th>\n",
       "      <th></th>\n",
       "      <th></th>\n",
       "      <th></th>\n",
       "      <th></th>\n",
       "      <th></th>\n",
       "      <th></th>\n",
       "    </tr>\n",
       "  </thead>\n",
       "  <tbody>\n",
       "    <tr>\n",
       "      <th>2020-06-18</th>\n",
       "      <td>148</td>\n",
       "      <td>8488235</td>\n",
       "      <td>high</td>\n",
       "      <td>453963</td>\n",
       "      <td>high</td>\n",
       "      <td>4090382</td>\n",
       "      <td>high</td>\n",
       "    </tr>\n",
       "    <tr>\n",
       "      <th>2020-06-19</th>\n",
       "      <td>149</td>\n",
       "      <td>8666045</td>\n",
       "      <td>high</td>\n",
       "      <td>460053</td>\n",
       "      <td>high</td>\n",
       "      <td>4180522</td>\n",
       "      <td>high</td>\n",
       "    </tr>\n",
       "    <tr>\n",
       "      <th>2020-06-20</th>\n",
       "      <td>150</td>\n",
       "      <td>8828267</td>\n",
       "      <td>high</td>\n",
       "      <td>464505</td>\n",
       "      <td>high</td>\n",
       "      <td>4300164</td>\n",
       "      <td>high</td>\n",
       "    </tr>\n",
       "    <tr>\n",
       "      <th>2020-06-21</th>\n",
       "      <td>151</td>\n",
       "      <td>8955903</td>\n",
       "      <td>high</td>\n",
       "      <td>468381</td>\n",
       "      <td>high</td>\n",
       "      <td>4368433</td>\n",
       "      <td>high</td>\n",
       "    </tr>\n",
       "    <tr>\n",
       "      <th>2020-06-22</th>\n",
       "      <td>152</td>\n",
       "      <td>9097902</td>\n",
       "      <td>high</td>\n",
       "      <td>472155</td>\n",
       "      <td>high</td>\n",
       "      <td>4459666</td>\n",
       "      <td>high</td>\n",
       "    </tr>\n",
       "  </tbody>\n",
       "</table>\n",
       "</div>"
      ],
      "text/plain": [
       "            Days Since  Confirmed Confirmed Rate  Deaths Death Rate  \\\n",
       "Date                                                                  \n",
       "2020-06-18         148    8488235           high  453963       high   \n",
       "2020-06-19         149    8666045           high  460053       high   \n",
       "2020-06-20         150    8828267           high  464505       high   \n",
       "2020-06-21         151    8955903           high  468381       high   \n",
       "2020-06-22         152    9097902           high  472155       high   \n",
       "\n",
       "            Recovered Recoverance Rate  \n",
       "Date                                    \n",
       "2020-06-18    4090382             high  \n",
       "2020-06-19    4180522             high  \n",
       "2020-06-20    4300164             high  \n",
       "2020-06-21    4368433             high  \n",
       "2020-06-22    4459666             high  "
      ]
     },
     "execution_count": 47,
     "metadata": {},
     "output_type": "execute_result"
    }
   ],
   "source": [
    "train_lr=world_data.iloc[:int(world_data.shape[0]*0.90)]\n",
    "test_lr=world_data.iloc[int(world_data.shape[0]*0.90):]\n",
    "test_lr.tail()"
   ]
  },
  {
   "cell_type": "code",
   "execution_count": 48,
   "metadata": {},
   "outputs": [
    {
     "data": {
      "text/plain": [
       "LinearRegression(copy_X=True, fit_intercept=True, n_jobs=None, normalize=False)"
      ]
     },
     "execution_count": 48,
     "metadata": {},
     "output_type": "execute_result"
    }
   ],
   "source": [
    "lr_model=LinearRegression()\n",
    "lr_model.fit(np.array(train_lr[\"Days Since\"]).reshape(-1,1),np.array(train_lr[\"Recovered\"]).reshape(-1,1))"
   ]
  },
  {
   "cell_type": "code",
   "execution_count": 49,
   "metadata": {},
   "outputs": [
    {
     "data": {
      "text/plain": [
       "(array([[1944242.76009017],\n",
       "        [1962996.47130696],\n",
       "        [1981750.18252376],\n",
       "        [2000503.89374055],\n",
       "        [2019257.60495734],\n",
       "        [2038011.31617414],\n",
       "        [2056765.02739093],\n",
       "        [2075518.73860773],\n",
       "        [2094272.44982452],\n",
       "        [2113026.16104131],\n",
       "        [2131779.87225811],\n",
       "        [2150533.5834749 ],\n",
       "        [2169287.29469169],\n",
       "        [2188041.00590849],\n",
       "        [2206794.71712528],\n",
       "        [2225548.42834208]]),\n",
       " Date\n",
       " 2020-06-07    3086268\n",
       " 2020-06-08    3237190\n",
       " 2020-06-09    3318671\n",
       " 2020-06-10    3396704\n",
       " 2020-06-11    3481671\n",
       " 2020-06-12    3560483\n",
       " 2020-06-13    3645598\n",
       " 2020-06-14    3715556\n",
       " 2020-06-15    3794955\n",
       " 2020-06-16    3892350\n",
       " 2020-06-17    4009755\n",
       " 2020-06-18    4090382\n",
       " 2020-06-19    4180522\n",
       " 2020-06-20    4300164\n",
       " 2020-06-21    4368433\n",
       " 2020-06-22    4459666\n",
       " Name: Recovered, dtype: int32)"
      ]
     },
     "execution_count": 49,
     "metadata": {},
     "output_type": "execute_result"
    }
   ],
   "source": [
    "predict_lr=lr_model.predict(np.array(test_lr[\"Days Since\"]).reshape(-1,1))\n",
    "predict_lr,test_lr[\"Recovered\"]"
   ]
  },
  {
   "cell_type": "code",
   "execution_count": 50,
   "metadata": {},
   "outputs": [
    {
     "name": "stdout",
     "output_type": "stream",
     "text": [
      "RMSE value for Linear Regression: 1729404.0718118097\n"
     ]
    }
   ],
   "source": [
    "rmse=np.sqrt(mean_squared_error(test_lr[\"Recovered\"],predict_lr))\n",
    "print(\"RMSE value for Linear Regression:\",rmse)"
   ]
  },
  {
   "cell_type": "code",
   "execution_count": 51,
   "metadata": {},
   "outputs": [
    {
     "data": {
      "text/html": [
       "<div>\n",
       "<style scoped>\n",
       "    .dataframe tbody tr th:only-of-type {\n",
       "        vertical-align: middle;\n",
       "    }\n",
       "\n",
       "    .dataframe tbody tr th {\n",
       "        vertical-align: top;\n",
       "    }\n",
       "\n",
       "    .dataframe thead th {\n",
       "        text-align: right;\n",
       "    }\n",
       "</style>\n",
       "<table border=\"1\" class=\"dataframe\">\n",
       "  <thead>\n",
       "    <tr style=\"text-align: right;\">\n",
       "      <th></th>\n",
       "      <th>Days Since</th>\n",
       "      <th>Confirmed</th>\n",
       "      <th>Confirmed Rate</th>\n",
       "      <th>Deaths</th>\n",
       "      <th>Death Rate</th>\n",
       "      <th>Recovered</th>\n",
       "      <th>Recoverance Rate</th>\n",
       "    </tr>\n",
       "    <tr>\n",
       "      <th>Date</th>\n",
       "      <th></th>\n",
       "      <th></th>\n",
       "      <th></th>\n",
       "      <th></th>\n",
       "      <th></th>\n",
       "      <th></th>\n",
       "      <th></th>\n",
       "    </tr>\n",
       "  </thead>\n",
       "  <tbody>\n",
       "    <tr>\n",
       "      <th>2020-06-18</th>\n",
       "      <td>148</td>\n",
       "      <td>8488235</td>\n",
       "      <td>high</td>\n",
       "      <td>453963</td>\n",
       "      <td>high</td>\n",
       "      <td>4090382</td>\n",
       "      <td>high</td>\n",
       "    </tr>\n",
       "    <tr>\n",
       "      <th>2020-06-19</th>\n",
       "      <td>149</td>\n",
       "      <td>8666045</td>\n",
       "      <td>high</td>\n",
       "      <td>460053</td>\n",
       "      <td>high</td>\n",
       "      <td>4180522</td>\n",
       "      <td>high</td>\n",
       "    </tr>\n",
       "    <tr>\n",
       "      <th>2020-06-20</th>\n",
       "      <td>150</td>\n",
       "      <td>8828267</td>\n",
       "      <td>high</td>\n",
       "      <td>464505</td>\n",
       "      <td>high</td>\n",
       "      <td>4300164</td>\n",
       "      <td>high</td>\n",
       "    </tr>\n",
       "    <tr>\n",
       "      <th>2020-06-21</th>\n",
       "      <td>151</td>\n",
       "      <td>8955903</td>\n",
       "      <td>high</td>\n",
       "      <td>468381</td>\n",
       "      <td>high</td>\n",
       "      <td>4368433</td>\n",
       "      <td>high</td>\n",
       "    </tr>\n",
       "    <tr>\n",
       "      <th>2020-06-22</th>\n",
       "      <td>152</td>\n",
       "      <td>9097902</td>\n",
       "      <td>high</td>\n",
       "      <td>472155</td>\n",
       "      <td>high</td>\n",
       "      <td>4459666</td>\n",
       "      <td>high</td>\n",
       "    </tr>\n",
       "  </tbody>\n",
       "</table>\n",
       "</div>"
      ],
      "text/plain": [
       "            Days Since  Confirmed Confirmed Rate  Deaths Death Rate  \\\n",
       "Date                                                                  \n",
       "2020-06-18         148    8488235           high  453963       high   \n",
       "2020-06-19         149    8666045           high  460053       high   \n",
       "2020-06-20         150    8828267           high  464505       high   \n",
       "2020-06-21         151    8955903           high  468381       high   \n",
       "2020-06-22         152    9097902           high  472155       high   \n",
       "\n",
       "            Recovered Recoverance Rate  \n",
       "Date                                    \n",
       "2020-06-18    4090382             high  \n",
       "2020-06-19    4180522             high  \n",
       "2020-06-20    4300164             high  \n",
       "2020-06-21    4368433             high  \n",
       "2020-06-22    4459666             high  "
      ]
     },
     "execution_count": 51,
     "metadata": {},
     "output_type": "execute_result"
    }
   ],
   "source": [
    "train_svm=world_data.iloc[:int(world_data.shape[0]*0.90)]\n",
    "test_svm=world_data.iloc[int(world_data.shape[0]*0.90):]\n",
    "test_svm.tail()"
   ]
  },
  {
   "cell_type": "code",
   "execution_count": 52,
   "metadata": {},
   "outputs": [],
   "source": [
    "svm=SVR(C=3,degree=3,kernel=\"poly\",epsilon=0.01)"
   ]
  },
  {
   "cell_type": "code",
   "execution_count": 53,
   "metadata": {},
   "outputs": [
    {
     "name": "stderr",
     "output_type": "stream",
     "text": [
      "C:\\Users\\pratyusha\\anaconda3\\lib\\site-packages\\sklearn\\utils\\validation.py:760: DataConversionWarning: A column-vector y was passed when a 1d array was expected. Please change the shape of y to (n_samples, ), for example using ravel().\n",
      "  y = column_or_1d(y, warn=True)\n"
     ]
    },
    {
     "data": {
      "text/plain": [
       "SVR(C=3, cache_size=200, coef0=0.0, degree=3, epsilon=0.01, gamma='scale',\n",
       "    kernel='poly', max_iter=-1, shrinking=True, tol=0.001, verbose=False)"
      ]
     },
     "execution_count": 53,
     "metadata": {},
     "output_type": "execute_result"
    }
   ],
   "source": [
    "svm.fit(np.array(train_svm[\"Days Since\"]).reshape(-1,1),np.array(train_svm[\"Recovered\"]).reshape(-1,1))"
   ]
  },
  {
   "cell_type": "code",
   "execution_count": 54,
   "metadata": {},
   "outputs": [
    {
     "data": {
      "text/plain": [
       "(array([297904.66084373, 301289.16360977, 304723.0743042 , 308206.75095548,\n",
       "        311740.55159209, 315324.83424248, 318959.95693513, 322646.27769851,\n",
       "        326384.15456107, 330173.94555128, 334016.00869762, 337910.70202854,\n",
       "        341858.38357252, 345859.41135802, 349914.14341351, 354022.93776745]),\n",
       " Date\n",
       " 2020-06-07    3086268\n",
       " 2020-06-08    3237190\n",
       " 2020-06-09    3318671\n",
       " 2020-06-10    3396704\n",
       " 2020-06-11    3481671\n",
       " 2020-06-12    3560483\n",
       " 2020-06-13    3645598\n",
       " 2020-06-14    3715556\n",
       " 2020-06-15    3794955\n",
       " 2020-06-16    3892350\n",
       " 2020-06-17    4009755\n",
       " 2020-06-18    4090382\n",
       " 2020-06-19    4180522\n",
       " 2020-06-20    4300164\n",
       " 2020-06-21    4368433\n",
       " 2020-06-22    4459666\n",
       " Name: Recovered, dtype: int32)"
      ]
     },
     "execution_count": 54,
     "metadata": {},
     "output_type": "execute_result"
    }
   ],
   "source": [
    "c=svm.predict(np.array(test_svm[\"Days Since\"]).reshape(-1,1))\n",
    "c,test_svm[\"Recovered\"]"
   ]
  },
  {
   "cell_type": "code",
   "execution_count": 55,
   "metadata": {},
   "outputs": [
    {
     "name": "stdout",
     "output_type": "stream",
     "text": [
      "RMSE value for SVM: 3480875.3445814955\n"
     ]
    }
   ],
   "source": [
    "rmse=np.sqrt(mean_squared_error(test_svm[\"Recovered\"],c))\n",
    "print(\"RMSE value for SVM:\",rmse)"
   ]
  },
  {
   "cell_type": "code",
   "execution_count": 56,
   "metadata": {},
   "outputs": [
    {
     "data": {
      "text/plain": [
       "[3852649.030794152, 3919985.5574854617, 3987890.304240801]"
      ]
     },
     "execution_count": 56,
     "metadata": {},
     "output_type": "execute_result"
    }
   ],
   "source": [
    "pre_poly=[]\n",
    "for i in range(1,s+1):\n",
    "    pre_data_poly=pr.fit_transform(np.array(world_data[\"Days Since\"].max()+i).reshape(-1,1))\n",
    "    pre_poly.append(lr.predict(pre_data_poly)[0])\n",
    "pre_poly"
   ]
  },
  {
   "cell_type": "code",
   "execution_count": 57,
   "metadata": {},
   "outputs": [],
   "source": [
    "from datetime import timedelta\n",
    "pre_date=[]\n",
    "pre_lr=[]\n",
    "pre_svm=[]\n",
    "for i in range(1,21):\n",
    "    pre_date.append(world_data.index[-1]+timedelta(days=i))\n",
    "    pre_lr.append(lr_model.predict(np.array(world_data[\"Days Since\"].max()+i).reshape(-1,1))[0][0])\n",
    "    pre_svm.append(svm.predict(np.array(world_data[\"Days Since\"].max()+i).reshape(-1,1))[0])"
   ]
  },
  {
   "cell_type": "code",
   "execution_count": 58,
   "metadata": {},
   "outputs": [
    {
     "data": {
      "text/html": [
       "<div>\n",
       "<style scoped>\n",
       "    .dataframe tbody tr th:only-of-type {\n",
       "        vertical-align: middle;\n",
       "    }\n",
       "\n",
       "    .dataframe tbody tr th {\n",
       "        vertical-align: top;\n",
       "    }\n",
       "\n",
       "    .dataframe thead th {\n",
       "        text-align: right;\n",
       "    }\n",
       "</style>\n",
       "<table border=\"1\" class=\"dataframe\">\n",
       "  <thead>\n",
       "    <tr style=\"text-align: right;\">\n",
       "      <th></th>\n",
       "      <th>Date</th>\n",
       "      <th>Linear Regression</th>\n",
       "      <th>Polynomial Regression</th>\n",
       "      <th>SVM</th>\n",
       "    </tr>\n",
       "  </thead>\n",
       "  <tbody>\n",
       "    <tr>\n",
       "      <th>0</th>\n",
       "      <td>2020-06-23</td>\n",
       "      <td>2244302.139559</td>\n",
       "      <td>3852649.030794</td>\n",
       "      <td>358186.152448</td>\n",
       "    </tr>\n",
       "    <tr>\n",
       "      <th>1</th>\n",
       "      <td>2020-06-24</td>\n",
       "      <td>2263055.850776</td>\n",
       "      <td>3919985.557485</td>\n",
       "      <td>362404.145485</td>\n",
       "    </tr>\n",
       "    <tr>\n",
       "      <th>2</th>\n",
       "      <td>2020-06-25</td>\n",
       "      <td>2281809.561992</td>\n",
       "      <td>3987890.304241</td>\n",
       "      <td>366677.274905</td>\n",
       "    </tr>\n",
       "  </tbody>\n",
       "</table>\n",
       "</div>"
      ],
      "text/plain": [
       "        Date  Linear Regression  Polynomial Regression           SVM\n",
       "0 2020-06-23     2244302.139559         3852649.030794 358186.152448\n",
       "1 2020-06-24     2263055.850776         3919985.557485 362404.145485\n",
       "2 2020-06-25     2281809.561992         3987890.304241 366677.274905"
      ]
     },
     "execution_count": 58,
     "metadata": {},
     "output_type": "execute_result"
    }
   ],
   "source": [
    "pd.set_option('display.float_format',lambda x: '%.6f' % x)\n",
    "model_prediction=pd.DataFrame(zip(pre_date,pre_lr,pre_poly,pre_svm),columns=[\"Date\",\"Linear Regression\",\"Polynomial Regression\",\"SVM\"])\n",
    "model_prediction"
   ]
  },
  {
   "cell_type": "code",
   "execution_count": 59,
   "metadata": {},
   "outputs": [
    {
     "name": "stderr",
     "output_type": "stream",
     "text": [
      "No handles with labels found to put in legend.\n"
     ]
    },
    {
     "data": {
      "text/plain": [
       "<matplotlib.legend.Legend at 0x111208fdd08>"
      ]
     },
     "execution_count": 59,
     "metadata": {},
     "output_type": "execute_result"
    },
    {
     "data": {
      "image/png": "[encoded data removed]",
      "text/plain": [
       "<Figure size 720x360 with 1 Axes>"
      ]
     },
     "metadata": {
      "needs_background": "light"
     },
     "output_type": "display_data"
    }
   ],
   "source": [
    "plt.figure(figsize=(10,5))\n",
    "plt.plot(model_prediction[\"Date\"],model_prediction[\"Linear Regression\"])\n",
    "plt.plot(model_prediction[\"Date\"],model_prediction[\"Polynomial Regression\"])\n",
    "plt.plot(model_prediction[\"Date\"],model_prediction[\"SVM\"])\n",
    "plt.xlabel(\"Date\")\n",
    "plt.ylabel(\"No of Cases\")\n",
    "plt.title(\"Daily prediction of Recovered Cases\")\n",
    "plt.xticks(rotation=45)\n",
    "plt.legend()"
   ]
  },
  {
   "cell_type": "code",
   "execution_count": null,
   "metadata": {},
   "outputs": [],
   "source": []
  }
 ],
 "metadata": {
  "kernelspec": {
   "display_name": "Python 3",
   "language": "python",
   "name": "python3"
  },
  "language_info": {
   "codemirror_mode": {
    "name": "ipython",
    "version": 3
   },
   "file_extension": ".py",
   "mimetype": "text/x-python",
   "name": "python",
   "nbconvert_exporter": "python",
   "pygments_lexer": "ipython3",
   "version": "3.7.6"
  }
 },
 "nbformat": 4,
 "nbformat_minor": 2
}
